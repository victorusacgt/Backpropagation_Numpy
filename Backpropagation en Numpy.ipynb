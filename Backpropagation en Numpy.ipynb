{
 "cells": [
  {
   "cell_type": "markdown",
   "metadata": {},
   "source": [
    "### Victor Rene Pérez Mayen\n",
    "### 19005180\n",
    "#### Tarea No.9"
   ]
  },
  {
   "cell_type": "code",
   "execution_count": 1,
   "metadata": {},
   "outputs": [],
   "source": [
    "import numpy as np\n",
    "import pandas as pd\n",
    "import matplotlib.pyplot as plt\n",
    "import pyodbc\n",
    "import random"
   ]
  },
  {
   "cell_type": "code",
   "execution_count": 31,
   "metadata": {},
   "outputs": [],
   "source": [
    "def fun_act(x):\n",
    "    return 1/(1 + np.exp(-x))\n",
    "\n",
    "def der_fun(x):\n",
    "    return np.multiply(x , (1 - x))\n",
    "\n",
    "def fun_entrenamiento(epochs,lr,inputs,bias_hidden,bias_output,labels):\n",
    "    for i in range(epochs):\n",
    "        hidden_layer_output = fun_act(np.matmul(inputs,bias_hidden))\n",
    "        output_layer_activation = np.matmul(hidden_layer_output,bias_output)\n",
    "        predicted_output = fun_act(output_layer_activation)\n",
    "        error = labels - predicted_output\n",
    "        d_predicted_output = np.multiply(error , der_fun(predicted_output))\n",
    "        error_hidden_layer = d_predicted_output.dot(output_weights.T) * lr\n",
    "        d_hidden_layer = np.multiply(error_hidden_layer , der_fun(hidden_layer_output))\n",
    "        bias_output += hidden_layer_output.T.dot(d_predicted_output) * lr\n",
    "        bias_hidden += inputs.T.dot(d_hidden_layer) * lr\n",
    "    return predicted_output\n",
    "\n",
    "data_x = np.array([[0, 0], [0, 1], [1, 0], [1, 1]])"
   ]
  },
  {
   "cell_type": "code",
   "execution_count": 32,
   "metadata": {},
   "outputs": [],
   "source": [
    "x_in = np.matrix([[0,0,0],[0,0,1],[0,1,0],[0,1,1]])\n",
    "y_in = np.array([[1],[0],[1],[0]])\n",
    "bias_hidden = np.random.randn(3,3)\n",
    "bias_output = np.random.uniform(size=(3,1))\n",
    "\n",
    "resultado = fun_entrenamiento(1000,0.005,x_in,bias_hidden,bias_output,y_in)"
   ]
  },
  {
   "cell_type": "code",
   "execution_count": 34,
   "metadata": {},
   "outputs": [
    {
     "name": "stdout",
     "output_type": "stream",
     "text": [
      "El resultado de Backpropagation sería: [[0.60410971]\n",
      " [0.58137652]\n",
      " [0.57275229]\n",
      " [0.5693423 ]]\n"
     ]
    }
   ],
   "source": [
    "print(\"El resultado de Backpropagation sería:\", resultado)"
   ]
  },
  {
   "cell_type": "code",
   "execution_count": null,
   "metadata": {},
   "outputs": [],
   "source": []
  }
 ],
 "metadata": {
  "kernelspec": {
   "display_name": "Python 3",
   "language": "python",
   "name": "python3"
  },
  "language_info": {
   "codemirror_mode": {
    "name": "ipython",
    "version": 3
   },
   "file_extension": ".py",
   "mimetype": "text/x-python",
   "name": "python",
   "nbconvert_exporter": "python",
   "pygments_lexer": "ipython3",
   "version": "3.7.1"
  }
 },
 "nbformat": 4,
 "nbformat_minor": 2
}
